{
 "cells": [
  {
   "cell_type": "code",
   "execution_count": 89,
   "metadata": {},
   "outputs": [],
   "source": [
    "import os\n",
    "import pandas as pd\n",
    "from xgdatatools import xgimport\n",
    "from xgdatatools import xgstruct"
   ]
  },
  {
   "cell_type": "code",
   "execution_count": 90,
   "metadata": {},
   "outputs": [],
   "source": [
    "def get_match_header(rec):\n",
    "    print(rec)"
   ]
  },
  {
   "cell_type": "code",
   "execution_count": 91,
   "metadata": {},
   "outputs": [],
   "source": [
    "def process_game_file(segment):\n",
    "    fileversion = -1\n",
    "    segment.fd.seek(os.SEEK_SET, 0)\n",
    "    cube_list = []\n",
    "    while True:\n",
    "        rec = xgstruct.GameFileRecord(\n",
    "            version=fileversion).fromstream(segment.fd)\n",
    "        if rec is None:\n",
    "            break\n",
    "        if isinstance(rec, xgstruct.HeaderMatchEntry):\n",
    "            fileversion = rec.Version\n",
    "            get_match_header(rec)\n",
    "        elif isinstance(rec, xgstruct.FooterMatchEntry):\n",
    "            get_match_header(rec)\n",
    "        # elif isinstance(rec, xgstruct.HeaderGameEntry):\n",
    "        #     print(rec)\n",
    "        elif isinstance(rec, xgstruct.CubeEntry):\n",
    "            # print(rec)\n",
    "            cube_list.append(rec)\n",
    "    return cube_list\n",
    "\n"
   ]
  },
  {
   "cell_type": "code",
   "execution_count": 92,
   "metadata": {},
   "outputs": [],
   "source": [
    "xgobj = xgimport.Import('data/Expert-Expert 2023-10-01.xg')"
   ]
  },
  {
   "cell_type": "code",
   "execution_count": 93,
   "metadata": {},
   "outputs": [
    {
     "name": "stdout",
     "output_type": "stream",
     "text": [
      "game file\n",
      "{'Name': 'MatchInfo', 'EntryType': 0, 'SPlayer1': 'Expert', 'SPlayer2': 'Expert', 'MatchLength': 99999, 'Variation': 0, 'Crawford': True, 'Jacoby': True, 'Beaver': True, 'AutoDouble': False, 'Elo1': 2201.0, 'Elo2': 2201.0, 'Exp1': 400, 'Exp2': 400, 'Date': '2023-10-01 06:53:45', 'SEvent': '', 'GameId': 750028733, 'CompLevel1': 0, 'CompLevel2': 0, 'CountForElo': False, 'AddtoProfile1': False, 'AddtoProfile2': False, 'SLocation': 'eXtreme Gammon', 'GameMode': 4, 'Imported': False, 'SRound': '', 'Invert': 1, 'Version': 30, 'Magic': 1229737284, 'MoneyInitG': 0, 'MoneyInitScore': (0, 0), 'Entered': False, 'Counted': False, 'UnratedImp': False, 'CommentHeaderMatch': -1, 'CommentFooterMatch': -1, 'isMoneyMatch': False, 'WinMoney': 0.0, 'LoseMoney': 0.0, 'Currency': 0, 'FeeMoney': 0.0, 'TableStake': 0, 'SiteId': -1, 'CubeLimit': 10, 'AutoDoubleMax': 0, 'Transcribed': False, 'Event': b'', 'Player1': b'Expert', 'Player2': b'Expert', 'Location': b'eXtreme Gammon', 'Round': b'', 'TimeSetting': {'ClockType': 0, 'PerGame': False, 'Time1': 120, 'Time2': 12, 'Penalty': 999, 'TimeLeft1': 0, 'TimeLeft2': 0, 'PenaltyMoney': 1}, 'TotTimeDelayMove': 0, 'TotTimeDelayCube': 0, 'TotTimeDelayMoveDone': 0, 'TotTimeDelayCubeDone': 0, 'Transcriber': b''}\n"
     ]
    }
   ],
   "source": [
    "for segment in xgobj.getfilesegment():\n",
    "    if segment.type == xgimport.Import.Segment.XG_GAMEFILE:\n",
    "        print('game file')\n",
    "        cube_list = process_game_file(segment)\n",
    "    if segment.type == xgimport.Import.Segment.XG_COMMENT:\n",
    "        print('comment file')\n",
    "    elif segment.type == xgimport.Import.Segment.XG_ROLLOUTS:\n",
    "        print('XG_ROLLOUTS')\n"
   ]
  },
  {
   "cell_type": "code",
   "execution_count": 94,
   "metadata": {},
   "outputs": [],
   "source": [
    "# リスト内の辞書を展開して、各辞書のキーを列名として使用してDataFrameを作成する\n",
    "data = []\n",
    "for cube in cube_list:\n",
    "    flattened_item = {}\n",
    "    for key, value in cube.items():\n",
    "        if isinstance(value, dict):\n",
    "            for sub_key, sub_value in value.items():\n",
    "                flattened_item[f\"{key}_{sub_key}\"] = sub_value\n",
    "        else:\n",
    "            flattened_item[key] = value\n",
    "    data.append(flattened_item)\n",
    "\n",
    "df = pd.DataFrame(data)"
   ]
  },
  {
   "cell_type": "code",
   "execution_count": 95,
   "metadata": {},
   "outputs": [
    {
     "data": {
      "text/plain": [
       "Index(['Name', 'EntryType', 'ActiveP', 'Double', 'Take', 'BeaverR', 'RaccoonR',\n",
       "       'CubeB', 'Position', 'Doubled_Pos', 'Doubled_Level', 'Doubled_Score',\n",
       "       'Doubled_Cube', 'Doubled_CubePos', 'Doubled_Jacoby', 'Doubled_Crawford',\n",
       "       'Doubled_met', 'Doubled_FlagDouble', 'Doubled_isBeaver', 'Doubled_Eval',\n",
       "       'Doubled_equB', 'Doubled_equDouble', 'Doubled_equDrop',\n",
       "       'Doubled_LevelRequest', 'Doubled_DoubleChoice3', 'Doubled_EvalDouble',\n",
       "       'ErrCube', 'DiceRolled', 'ErrTake', 'RolloutIndexD', 'CompChoiceD',\n",
       "       'AnalyzeC', 'ErrBeaver', 'ErrRaccoon', 'AnalyzeCR', 'isValid',\n",
       "       'TutorCube', 'TutorTake', 'ErrTutorCube', 'ErrTutorTake',\n",
       "       'FlaggedDouble', 'CommentCube', 'EditedCube', 'TimeDelayCube',\n",
       "       'TimeDelayCubeDone', 'NumberOfAutoDoubleCube', 'TimeBot', 'TimeTop',\n",
       "       'Version'],\n",
       "      dtype='object')"
      ]
     },
     "execution_count": 95,
     "metadata": {},
     "output_type": "execute_result"
    }
   ],
   "source": [
    "df.columns"
   ]
  },
  {
   "cell_type": "code",
   "execution_count": 96,
   "metadata": {},
   "outputs": [
    {
     "name": "stdout",
     "output_type": "stream",
     "text": [
      "<class 'pandas.core.frame.DataFrame'>\n",
      "RangeIndex: 12474 entries, 0 to 12473\n",
      "Data columns (total 49 columns):\n",
      " #   Column                  Non-Null Count  Dtype  \n",
      "---  ------                  --------------  -----  \n",
      " 0   Name                    12474 non-null  object \n",
      " 1   EntryType               12474 non-null  int64  \n",
      " 2   ActiveP                 12474 non-null  int64  \n",
      " 3   Double                  12474 non-null  int64  \n",
      " 4   Take                    12474 non-null  int64  \n",
      " 5   BeaverR                 12474 non-null  int64  \n",
      " 6   RaccoonR                12474 non-null  int64  \n",
      " 7   CubeB                   12474 non-null  int64  \n",
      " 8   Position                12474 non-null  object \n",
      " 9   Doubled_Pos             12474 non-null  object \n",
      " 10  Doubled_Level           12474 non-null  int64  \n",
      " 11  Doubled_Score           12474 non-null  object \n",
      " 12  Doubled_Cube            12474 non-null  int64  \n",
      " 13  Doubled_CubePos         12474 non-null  int64  \n",
      " 14  Doubled_Jacoby          12474 non-null  int64  \n",
      " 15  Doubled_Crawford        12474 non-null  int64  \n",
      " 16  Doubled_met             12474 non-null  int64  \n",
      " 17  Doubled_FlagDouble      12474 non-null  int64  \n",
      " 18  Doubled_isBeaver        12474 non-null  int64  \n",
      " 19  Doubled_Eval            12474 non-null  object \n",
      " 20  Doubled_equB            12474 non-null  float64\n",
      " 21  Doubled_equDouble       12474 non-null  float64\n",
      " 22  Doubled_equDrop         12474 non-null  float64\n",
      " 23  Doubled_LevelRequest    12474 non-null  int64  \n",
      " 24  Doubled_DoubleChoice3   12474 non-null  int64  \n",
      " 25  Doubled_EvalDouble      12474 non-null  object \n",
      " 26  ErrCube                 12474 non-null  float64\n",
      " 27  DiceRolled              12474 non-null  object \n",
      " 28  ErrTake                 12474 non-null  float64\n",
      " 29  RolloutIndexD           12474 non-null  int64  \n",
      " 30  CompChoiceD             12474 non-null  int64  \n",
      " 31  AnalyzeC                12474 non-null  int64  \n",
      " 32  ErrBeaver               12474 non-null  float64\n",
      " 33  ErrRaccoon              12474 non-null  float64\n",
      " 34  AnalyzeCR               12474 non-null  int64  \n",
      " 35  isValid                 12474 non-null  int64  \n",
      " 36  TutorCube               12474 non-null  int64  \n",
      " 37  TutorTake               12474 non-null  int64  \n",
      " 38  ErrTutorCube            12474 non-null  float64\n",
      " 39  ErrTutorTake            12474 non-null  float64\n",
      " 40  FlaggedDouble           12474 non-null  bool   \n",
      " 41  CommentCube             12474 non-null  int64  \n",
      " 42  EditedCube              12474 non-null  bool   \n",
      " 43  TimeDelayCube           12474 non-null  bool   \n",
      " 44  TimeDelayCubeDone       12474 non-null  bool   \n",
      " 45  NumberOfAutoDoubleCube  12474 non-null  int64  \n",
      " 46  TimeBot                 12474 non-null  int64  \n",
      " 47  TimeTop                 12474 non-null  int64  \n",
      " 48  Version                 12474 non-null  int64  \n",
      "dtypes: bool(4), float64(9), int64(29), object(7)\n",
      "memory usage: 4.3+ MB\n"
     ]
    }
   ],
   "source": [
    "df.info()"
   ]
  },
  {
   "cell_type": "code",
   "execution_count": 97,
   "metadata": {},
   "outputs": [],
   "source": [
    "# remove rows with ActiveP == 0\n",
    "df = df[df['ActiveP'] != 0]"
   ]
  },
  {
   "cell_type": "code",
   "execution_count": 98,
   "metadata": {},
   "outputs": [],
   "source": [
    "# remove rows with invalid cube\n",
    "df = df[df['Doubled_equB'] != 0.0]"
   ]
  },
  {
   "cell_type": "code",
   "execution_count": 99,
   "metadata": {},
   "outputs": [],
   "source": [
    "# filter rows with not much difference between cube decisions\n",
    "df = df[(abs(df['Doubled_equB'] - df['Doubled_equDouble']) < 0.3) | (abs(df['Doubled_equDrop'] - df['Doubled_equDouble']) < 0.3)]\n"
   ]
  },
  {
   "cell_type": "code",
   "execution_count": 100,
   "metadata": {},
   "outputs": [
    {
     "data": {
      "text/plain": [
       "Doubled_Level\n",
       "3       1240\n",
       "1001     126\n",
       "0         18\n",
       "Name: count, dtype: int64"
      ]
     },
     "execution_count": 100,
     "metadata": {},
     "output_type": "execute_result"
    }
   ],
   "source": [
    "df['Doubled_Level'].value_counts()"
   ]
  },
  {
   "cell_type": "code",
   "execution_count": 101,
   "metadata": {},
   "outputs": [
    {
     "data": {
      "text/plain": [
       "Doubled_Cube\n",
       "1    1108\n",
       "2     254\n",
       "4      20\n",
       "8       2\n",
       "Name: count, dtype: int64"
      ]
     },
     "execution_count": 101,
     "metadata": {},
     "output_type": "execute_result"
    }
   ],
   "source": [
    "df['Doubled_Cube'].value_counts()"
   ]
  },
  {
   "cell_type": "code",
   "execution_count": 102,
   "metadata": {},
   "outputs": [
    {
     "data": {
      "text/plain": [
       "<Axes: >"
      ]
     },
     "execution_count": 102,
     "metadata": {},
     "output_type": "execute_result"
    },
    {
     "data": {
      "image/png": "[encoded data removed]",
      "text/plain": [
       "<Figure size 640x480 with 1 Axes>"
      ]
     },
     "metadata": {},
     "output_type": "display_data"
    }
   ],
   "source": [
    "# ErrCube列の値が-1000または0である行を削除する\n",
    "df_cube = df[(df['ErrCube'] != -1000.0) & (df['ErrCube'] != 0.0)]\n",
    "df_cube['ErrCube'].hist(bins=100)"
   ]
  },
  {
   "cell_type": "code",
   "execution_count": 103,
   "metadata": {},
   "outputs": [
    {
     "data": {
      "text/plain": [
       "count    102.000000\n",
       "mean       0.046470\n",
       "std        0.036910\n",
       "min        0.001351\n",
       "25%        0.020844\n",
       "50%        0.040979\n",
       "75%        0.063059\n",
       "max        0.208665\n",
       "Name: ErrCube, dtype: float64"
      ]
     },
     "execution_count": 103,
     "metadata": {},
     "output_type": "execute_result"
    }
   ],
   "source": [
    "df_cube['ErrCube'].describe()"
   ]
  },
  {
   "cell_type": "code",
   "execution_count": 104,
   "metadata": {},
   "outputs": [
    {
     "data": {
      "text/plain": [
       "<Axes: >"
      ]
     },
     "execution_count": 104,
     "metadata": {},
     "output_type": "execute_result"
    },
    {
     "data": {
      "image/png": "[encoded data removed]",
      "text/plain": [
       "<Figure size 640x480 with 1 Axes>"
      ]
     },
     "metadata": {},
     "output_type": "display_data"
    }
   ],
   "source": [
    "# ErrCube列の値が-1000または0である行を削除する\n",
    "df_take = df[(df['ErrTake'] != -1000.0) & (df['ErrTake'] != 0.0)]\n",
    "df_take['ErrTake'].hist(bins=100)"
   ]
  },
  {
   "cell_type": "code",
   "execution_count": 105,
   "metadata": {},
   "outputs": [
    {
     "data": {
      "text/plain": [
       "count    11.000000\n",
       "mean     -0.032292\n",
       "std       0.035397\n",
       "min      -0.117985\n",
       "25%      -0.050248\n",
       "50%      -0.020435\n",
       "75%      -0.006305\n",
       "max      -0.002684\n",
       "Name: ErrTake, dtype: float64"
      ]
     },
     "execution_count": 105,
     "metadata": {},
     "output_type": "execute_result"
    }
   ],
   "source": [
    "df_take['ErrTake'].describe()"
   ]
  },
  {
   "cell_type": "code",
   "execution_count": 106,
   "metadata": {},
   "outputs": [],
   "source": [
    "df.to_pickle('data/xg_data.pkl')"
   ]
  },
  {
   "cell_type": "code",
   "execution_count": 107,
   "metadata": {},
   "outputs": [],
   "source": [
    "df = pd.read_pickle('data/xg_data.pkl')"
   ]
  },
  {
   "cell_type": "code",
   "execution_count": 108,
   "metadata": {},
   "outputs": [
    {
     "data": {
      "text/html": [
       "<div>\n",
       "<style scoped>\n",
       "    .dataframe tbody tr th:only-of-type {\n",
       "        vertical-align: middle;\n",
       "    }\n",
       "\n",
       "    .dataframe tbody tr th {\n",
       "        vertical-align: top;\n",
       "    }\n",
       "\n",
       "    .dataframe thead th {\n",
       "        text-align: right;\n",
       "    }\n",
       "</style>\n",
       "<table border=\"1\" class=\"dataframe\">\n",
       "  <thead>\n",
       "    <tr style=\"text-align: right;\">\n",
       "      <th>ActiveP</th>\n",
       "      <th>-1</th>\n",
       "      <th>1</th>\n",
       "    </tr>\n",
       "    <tr>\n",
       "      <th>CubeB</th>\n",
       "      <th></th>\n",
       "      <th></th>\n",
       "    </tr>\n",
       "  </thead>\n",
       "  <tbody>\n",
       "    <tr>\n",
       "      <th>-3</th>\n",
       "      <td>2</td>\n",
       "      <td>0</td>\n",
       "    </tr>\n",
       "    <tr>\n",
       "      <th>-2</th>\n",
       "      <td>13</td>\n",
       "      <td>0</td>\n",
       "    </tr>\n",
       "    <tr>\n",
       "      <th>-1</th>\n",
       "      <td>128</td>\n",
       "      <td>0</td>\n",
       "    </tr>\n",
       "    <tr>\n",
       "      <th>0</th>\n",
       "      <td>590</td>\n",
       "      <td>518</td>\n",
       "    </tr>\n",
       "    <tr>\n",
       "      <th>1</th>\n",
       "      <td>0</td>\n",
       "      <td>126</td>\n",
       "    </tr>\n",
       "    <tr>\n",
       "      <th>2</th>\n",
       "      <td>0</td>\n",
       "      <td>7</td>\n",
       "    </tr>\n",
       "  </tbody>\n",
       "</table>\n",
       "</div>"
      ],
      "text/plain": [
       "ActiveP   -1    1\n",
       "CubeB            \n",
       "-3         2    0\n",
       "-2        13    0\n",
       "-1       128    0\n",
       " 0       590  518\n",
       " 1         0  126\n",
       " 2         0    7"
      ]
     },
     "execution_count": 108,
     "metadata": {},
     "output_type": "execute_result"
    }
   ],
   "source": [
    "pd.crosstab(df['CubeB'], df['ActiveP'])"
   ]
  },
  {
   "cell_type": "code",
   "execution_count": 109,
   "metadata": {},
   "outputs": [
    {
     "name": "stdout",
     "output_type": "stream",
     "text": [
      "<class 'pandas.core.frame.DataFrame'>\n",
      "Index: 1384 entries, 5 to 12469\n",
      "Data columns (total 49 columns):\n",
      " #   Column                  Non-Null Count  Dtype  \n",
      "---  ------                  --------------  -----  \n",
      " 0   Name                    1384 non-null   object \n",
      " 1   EntryType               1384 non-null   int64  \n",
      " 2   ActiveP                 1384 non-null   int64  \n",
      " 3   Double                  1384 non-null   int64  \n",
      " 4   Take                    1384 non-null   int64  \n",
      " 5   BeaverR                 1384 non-null   int64  \n",
      " 6   RaccoonR                1384 non-null   int64  \n",
      " 7   CubeB                   1384 non-null   int64  \n",
      " 8   Position                1384 non-null   object \n",
      " 9   Doubled_Pos             1384 non-null   object \n",
      " 10  Doubled_Level           1384 non-null   int64  \n",
      " 11  Doubled_Score           1384 non-null   object \n",
      " 12  Doubled_Cube            1384 non-null   int64  \n",
      " 13  Doubled_CubePos         1384 non-null   int64  \n",
      " 14  Doubled_Jacoby          1384 non-null   int64  \n",
      " 15  Doubled_Crawford        1384 non-null   int64  \n",
      " 16  Doubled_met             1384 non-null   int64  \n",
      " 17  Doubled_FlagDouble      1384 non-null   int64  \n",
      " 18  Doubled_isBeaver        1384 non-null   int64  \n",
      " 19  Doubled_Eval            1384 non-null   object \n",
      " 20  Doubled_equB            1384 non-null   float64\n",
      " 21  Doubled_equDouble       1384 non-null   float64\n",
      " 22  Doubled_equDrop         1384 non-null   float64\n",
      " 23  Doubled_LevelRequest    1384 non-null   int64  \n",
      " 24  Doubled_DoubleChoice3   1384 non-null   int64  \n",
      " 25  Doubled_EvalDouble      1384 non-null   object \n",
      " 26  ErrCube                 1384 non-null   float64\n",
      " 27  DiceRolled              1384 non-null   object \n",
      " 28  ErrTake                 1384 non-null   float64\n",
      " 29  RolloutIndexD           1384 non-null   int64  \n",
      " 30  CompChoiceD             1384 non-null   int64  \n",
      " 31  AnalyzeC                1384 non-null   int64  \n",
      " 32  ErrBeaver               1384 non-null   float64\n",
      " 33  ErrRaccoon              1384 non-null   float64\n",
      " 34  AnalyzeCR               1384 non-null   int64  \n",
      " 35  isValid                 1384 non-null   int64  \n",
      " 36  TutorCube               1384 non-null   int64  \n",
      " 37  TutorTake               1384 non-null   int64  \n",
      " 38  ErrTutorCube            1384 non-null   float64\n",
      " 39  ErrTutorTake            1384 non-null   float64\n",
      " 40  FlaggedDouble           1384 non-null   bool   \n",
      " 41  CommentCube             1384 non-null   int64  \n",
      " 42  EditedCube              1384 non-null   bool   \n",
      " 43  TimeDelayCube           1384 non-null   bool   \n",
      " 44  TimeDelayCubeDone       1384 non-null   bool   \n",
      " 45  NumberOfAutoDoubleCube  1384 non-null   int64  \n",
      " 46  TimeBot                 1384 non-null   int64  \n",
      " 47  TimeTop                 1384 non-null   int64  \n",
      " 48  Version                 1384 non-null   int64  \n",
      "dtypes: bool(4), float64(9), int64(29), object(7)\n",
      "memory usage: 502.8+ KB\n"
     ]
    }
   ],
   "source": [
    "df.info()"
   ]
  },
  {
   "cell_type": "code",
   "execution_count": null,
   "metadata": {},
   "outputs": [],
   "source": []
  }
 ],
 "metadata": {
  "kernelspec": {
   "display_name": "Python 3",
   "language": "python",
   "name": "python3"
  },
  "language_info": {
   "codemirror_mode": {
    "name": "ipython",
    "version": 3
   },
   "file_extension": ".py",
   "mimetype": "text/x-python",
   "name": "python",
   "nbconvert_exporter": "python",
   "pygments_lexer": "ipython3",
   "version": "3.11.6"
  },
  "orig_nbformat": 4
 },
 "nbformat": 4,
 "nbformat_minor": 2
}
