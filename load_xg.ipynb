{
 "cells": [
  {
   "cell_type": "code",
   "execution_count": 1,
   "metadata": {},
   "outputs": [],
   "source": [
    "import os\n",
    "import pandas as pd\n",
    "from xgdatatools import xgimport\n",
    "from xgdatatools import xgstruct"
   ]
  },
  {
   "cell_type": "code",
   "execution_count": 2,
   "metadata": {},
   "outputs": [],
   "source": [
    "def get_match_header(rec):\n",
    "    print(rec)"
   ]
  },
  {
   "cell_type": "code",
   "execution_count": 3,
   "metadata": {},
   "outputs": [],
   "source": [
    "def process_game_file(segment):\n",
    "    fileversion = -1\n",
    "    segment.fd.seek(os.SEEK_SET, 0)\n",
    "    cube_list = []\n",
    "    while True:\n",
    "        rec = xgstruct.GameFileRecord(\n",
    "            version=fileversion).fromstream(segment.fd)\n",
    "        if rec is None:\n",
    "            break\n",
    "        if isinstance(rec, xgstruct.HeaderMatchEntry):\n",
    "            fileversion = rec.Version\n",
    "            get_match_header(rec)\n",
    "        elif isinstance(rec, xgstruct.FooterMatchEntry):\n",
    "            get_match_header(rec)\n",
    "        # elif isinstance(rec, xgstruct.HeaderGameEntry):\n",
    "        #     print(rec)\n",
    "        elif isinstance(rec, xgstruct.CubeEntry):\n",
    "            # print(rec)\n",
    "            cube_list.append(rec)\n",
    "    return cube_list\n",
    "\n"
   ]
  },
  {
   "cell_type": "code",
   "execution_count": 4,
   "metadata": {},
   "outputs": [],
   "source": [
    "xgobj = xgimport.Import('data/Expert-Expert 2023-10-01.xg')"
   ]
  },
  {
   "cell_type": "code",
   "execution_count": 5,
   "metadata": {},
   "outputs": [
    {
     "name": "stdout",
     "output_type": "stream",
     "text": [
      "game file\n",
      "{'Name': 'MatchInfo', 'EntryType': 0, 'SPlayer1': 'Expert', 'SPlayer2': 'Expert', 'MatchLength': 99999, 'Variation': 0, 'Crawford': True, 'Jacoby': True, 'Beaver': True, 'AutoDouble': False, 'Elo1': 2201.0, 'Elo2': 2201.0, 'Exp1': 400, 'Exp2': 400, 'Date': '2023-10-01 06:53:45', 'SEvent': '', 'GameId': 750028733, 'CompLevel1': 0, 'CompLevel2': 0, 'CountForElo': False, 'AddtoProfile1': False, 'AddtoProfile2': False, 'SLocation': 'eXtreme Gammon', 'GameMode': 4, 'Imported': False, 'SRound': '', 'Invert': 1, 'Version': 30, 'Magic': 1229737284, 'MoneyInitG': 0, 'MoneyInitScore': (0, 0), 'Entered': False, 'Counted': False, 'UnratedImp': False, 'CommentHeaderMatch': -1, 'CommentFooterMatch': -1, 'isMoneyMatch': False, 'WinMoney': 0.0, 'LoseMoney': 0.0, 'Currency': 0, 'FeeMoney': 0.0, 'TableStake': 0, 'SiteId': -1, 'CubeLimit': 10, 'AutoDoubleMax': 0, 'Transcribed': False, 'Event': b'', 'Player1': b'Expert', 'Player2': b'Expert', 'Location': b'eXtreme Gammon', 'Round': b'', 'TimeSetting': {'ClockType': 0, 'PerGame': False, 'Time1': 120, 'Time2': 12, 'Penalty': 999, 'TimeLeft1': 120000, 'TimeLeft2': 120000, 'PenaltyMoney': 1}, 'TotTimeDelayMove': 0, 'TotTimeDelayCube': 0, 'TotTimeDelayMoveDone': 0, 'TotTimeDelayCubeDone': 0, 'Transcriber': b''}\n"
     ]
    }
   ],
   "source": [
    "for segment in xgobj.getfilesegment():\n",
    "    if segment.type == xgimport.Import.Segment.XG_GAMEFILE:\n",
    "        print('game file')\n",
    "        cube_list = process_game_file(segment)\n",
    "    if segment.type == xgimport.Import.Segment.XG_COMMENT:\n",
    "        print('comment file')\n",
    "    elif segment.type == xgimport.Import.Segment.XG_ROLLOUTS:\n",
    "        print('XG_ROLLOUTS')\n"
   ]
  },
  {
   "cell_type": "code",
   "execution_count": 6,
   "metadata": {},
   "outputs": [],
   "source": [
    "# リスト内の辞書を展開して、各辞書のキーを列名として使用してDataFrameを作成する\n",
    "data = []\n",
    "for cube in cube_list:\n",
    "    flattened_item = {}\n",
    "    for key, value in cube.items():\n",
    "        if isinstance(value, dict):\n",
    "            for sub_key, sub_value in value.items():\n",
    "                flattened_item[f\"{key}_{sub_key}\"] = sub_value\n",
    "        else:\n",
    "            flattened_item[key] = value\n",
    "    data.append(flattened_item)\n",
    "\n",
    "df = pd.DataFrame(data)"
   ]
  },
  {
   "cell_type": "code",
   "execution_count": 7,
   "metadata": {},
   "outputs": [
    {
     "data": {
      "text/plain": [
       "Index(['Name', 'EntryType', 'ActiveP', 'Double', 'Take', 'BeaverR', 'RaccoonR',\n",
       "       'CubeB', 'Position', 'Doubled_Pos', 'Doubled_Level', 'Doubled_Score',\n",
       "       'Doubled_Cube', 'Doubled_CubePos', 'Doubled_Jacoby', 'Doubled_Crawford',\n",
       "       'Doubled_met', 'Doubled_FlagDouble', 'Doubled_isBeaver', 'Doubled_Eval',\n",
       "       'Doubled_equB', 'Doubled_equDouble', 'Doubled_equDrop',\n",
       "       'Doubled_LevelRequest', 'Doubled_DoubleChoice3', 'Doubled_EvalDouble',\n",
       "       'ErrCube', 'DiceRolled', 'ErrTake', 'RolloutIndexD', 'CompChoiceD',\n",
       "       'AnalyzeC', 'ErrBeaver', 'ErrRaccoon', 'AnalyzeCR', 'isValid',\n",
       "       'TutorCube', 'TutorTake', 'ErrTutorCube', 'ErrTutorTake',\n",
       "       'FlaggedDouble', 'CommentCube', 'EditedCube', 'TimeDelayCube',\n",
       "       'TimeDelayCubeDone', 'NumberOfAutoDoubleCube', 'TimeBot', 'TimeTop',\n",
       "       'Version'],\n",
       "      dtype='object')"
      ]
     },
     "execution_count": 7,
     "metadata": {},
     "output_type": "execute_result"
    }
   ],
   "source": [
    "df.columns"
   ]
  },
  {
   "cell_type": "code",
   "execution_count": 8,
   "metadata": {},
   "outputs": [
    {
     "name": "stdout",
     "output_type": "stream",
     "text": [
      "<class 'pandas.core.frame.DataFrame'>\n",
      "RangeIndex: 79831 entries, 0 to 79830\n",
      "Data columns (total 49 columns):\n",
      " #   Column                  Non-Null Count  Dtype  \n",
      "---  ------                  --------------  -----  \n",
      " 0   Name                    79831 non-null  object \n",
      " 1   EntryType               79831 non-null  int64  \n",
      " 2   ActiveP                 79831 non-null  int64  \n",
      " 3   Double                  79831 non-null  int64  \n",
      " 4   Take                    79831 non-null  int64  \n",
      " 5   BeaverR                 79831 non-null  int64  \n",
      " 6   RaccoonR                79831 non-null  int64  \n",
      " 7   CubeB                   79831 non-null  int64  \n",
      " 8   Position                79831 non-null  object \n",
      " 9   Doubled_Pos             79831 non-null  object \n",
      " 10  Doubled_Level           79831 non-null  int64  \n",
      " 11  Doubled_Score           79831 non-null  object \n",
      " 12  Doubled_Cube            79831 non-null  int64  \n",
      " 13  Doubled_CubePos         79831 non-null  int64  \n",
      " 14  Doubled_Jacoby          79831 non-null  int64  \n",
      " 15  Doubled_Crawford        79831 non-null  int64  \n",
      " 16  Doubled_met             79831 non-null  int64  \n",
      " 17  Doubled_FlagDouble      79831 non-null  int64  \n",
      " 18  Doubled_isBeaver        79831 non-null  int64  \n",
      " 19  Doubled_Eval            79831 non-null  object \n",
      " 20  Doubled_equB            79831 non-null  float64\n",
      " 21  Doubled_equDouble       79831 non-null  float64\n",
      " 22  Doubled_equDrop         79831 non-null  float64\n",
      " 23  Doubled_LevelRequest    79831 non-null  int64  \n",
      " 24  Doubled_DoubleChoice3   79831 non-null  int64  \n",
      " 25  Doubled_EvalDouble      79831 non-null  object \n",
      " 26  ErrCube                 79831 non-null  float64\n",
      " 27  DiceRolled              79831 non-null  object \n",
      " 28  ErrTake                 79831 non-null  float64\n",
      " 29  RolloutIndexD           79831 non-null  int64  \n",
      " 30  CompChoiceD             79831 non-null  int64  \n",
      " 31  AnalyzeC                79831 non-null  int64  \n",
      " 32  ErrBeaver               79831 non-null  float64\n",
      " 33  ErrRaccoon              79831 non-null  float64\n",
      " 34  AnalyzeCR               79831 non-null  int64  \n",
      " 35  isValid                 79831 non-null  int64  \n",
      " 36  TutorCube               79831 non-null  int64  \n",
      " 37  TutorTake               79831 non-null  int64  \n",
      " 38  ErrTutorCube            79831 non-null  float64\n",
      " 39  ErrTutorTake            79831 non-null  float64\n",
      " 40  FlaggedDouble           79831 non-null  bool   \n",
      " 41  CommentCube             79831 non-null  int64  \n",
      " 42  EditedCube              79831 non-null  bool   \n",
      " 43  TimeDelayCube           79831 non-null  bool   \n",
      " 44  TimeDelayCubeDone       79831 non-null  bool   \n",
      " 45  NumberOfAutoDoubleCube  79831 non-null  int64  \n",
      " 46  TimeBot                 79831 non-null  int64  \n",
      " 47  TimeTop                 79831 non-null  int64  \n",
      " 48  Version                 79831 non-null  int64  \n",
      "dtypes: bool(4), float64(9), int64(29), object(7)\n",
      "memory usage: 27.7+ MB\n"
     ]
    }
   ],
   "source": [
    "df.info()"
   ]
  },
  {
   "cell_type": "code",
   "execution_count": 9,
   "metadata": {},
   "outputs": [],
   "source": [
    "df.to_pickle('data/xg_data_all.pkl')"
   ]
  },
  {
   "cell_type": "code",
   "execution_count": 10,
   "metadata": {},
   "outputs": [],
   "source": [
    "# remove rows with ActiveP == 0\n",
    "df = df[df['ActiveP'] != 0]"
   ]
  },
  {
   "cell_type": "code",
   "execution_count": 11,
   "metadata": {},
   "outputs": [],
   "source": [
    "# remove rows with invalid cube\n",
    "df = df[df['Doubled_equB'] != 0.0]"
   ]
  },
  {
   "cell_type": "code",
   "execution_count": 12,
   "metadata": {},
   "outputs": [],
   "source": [
    "# filter rows with not much difference between cube decisions\n",
    "df = df[(abs(df['Doubled_equB'] - df['Doubled_equDouble']) < 0.3) | (abs(df['Doubled_equDrop'] - df['Doubled_equDouble']) < 0.3)]\n"
   ]
  },
  {
   "cell_type": "code",
   "execution_count": 13,
   "metadata": {},
   "outputs": [
    {
     "data": {
      "text/plain": [
       "Doubled_Level\n",
       "1001    5204\n",
       "2       3086\n",
       "0         11\n",
       "Name: count, dtype: int64"
      ]
     },
     "execution_count": 13,
     "metadata": {},
     "output_type": "execute_result"
    }
   ],
   "source": [
    "df['Doubled_Level'].value_counts()"
   ]
  },
  {
   "cell_type": "code",
   "execution_count": 14,
   "metadata": {},
   "outputs": [
    {
     "data": {
      "text/plain": [
       "Doubled_Cube\n",
       "1    6970\n",
       "2    1209\n",
       "4     114\n",
       "8       8\n",
       "Name: count, dtype: int64"
      ]
     },
     "execution_count": 14,
     "metadata": {},
     "output_type": "execute_result"
    }
   ],
   "source": [
    "df['Doubled_Cube'].value_counts()"
   ]
  },
  {
   "cell_type": "code",
   "execution_count": 15,
   "metadata": {},
   "outputs": [
    {
     "data": {
      "text/plain": [
       "<Axes: >"
      ]
     },
     "execution_count": 15,
     "metadata": {},
     "output_type": "execute_result"
    },
    {
     "data": {
      "image/png": "[encoded data removed]",
      "text/plain": [
       "<Figure size 640x480 with 1 Axes>"
      ]
     },
     "metadata": {},
     "output_type": "display_data"
    }
   ],
   "source": [
    "# ErrCube列の値が-1000または0である行を削除する\n",
    "df_cube = df[(df['ErrCube'] != -1000.0) & (df['ErrCube'] != 0.0)]\n",
    "df_cube['ErrCube'].hist(bins=100)"
   ]
  },
  {
   "cell_type": "code",
   "execution_count": 16,
   "metadata": {},
   "outputs": [
    {
     "data": {
      "text/plain": [
       "count    808.000000\n",
       "mean       0.043584\n",
       "std        0.035362\n",
       "min        0.000145\n",
       "25%        0.020407\n",
       "50%        0.037445\n",
       "75%        0.057088\n",
       "max        0.298381\n",
       "Name: ErrCube, dtype: float64"
      ]
     },
     "execution_count": 16,
     "metadata": {},
     "output_type": "execute_result"
    }
   ],
   "source": [
    "df_cube['ErrCube'].describe()"
   ]
  },
  {
   "cell_type": "code",
   "execution_count": 17,
   "metadata": {},
   "outputs": [
    {
     "data": {
      "text/plain": [
       "<Axes: >"
      ]
     },
     "execution_count": 17,
     "metadata": {},
     "output_type": "execute_result"
    },
    {
     "data": {
      "image/png": "[encoded data removed]",
      "text/plain": [
       "<Figure size 640x480 with 1 Axes>"
      ]
     },
     "metadata": {},
     "output_type": "display_data"
    }
   ],
   "source": [
    "# ErrCube列の値が-1000または0である行を削除する\n",
    "df_take = df[(df['ErrTake'] != -1000.0) & (df['ErrTake'] != 0.0)]\n",
    "df_take['ErrTake'].hist(bins=100)"
   ]
  },
  {
   "cell_type": "code",
   "execution_count": 18,
   "metadata": {},
   "outputs": [
    {
     "data": {
      "text/plain": [
       "count    131.000000\n",
       "mean      -0.047954\n",
       "std        0.046103\n",
       "min       -0.240069\n",
       "25%       -0.063801\n",
       "50%       -0.039566\n",
       "75%       -0.013779\n",
       "max       -0.000659\n",
       "Name: ErrTake, dtype: float64"
      ]
     },
     "execution_count": 18,
     "metadata": {},
     "output_type": "execute_result"
    }
   ],
   "source": [
    "df_take['ErrTake'].describe()"
   ]
  },
  {
   "cell_type": "code",
   "execution_count": 19,
   "metadata": {},
   "outputs": [],
   "source": [
    "# swap board if active player is a top player\n",
    "df['Position'] = df.apply(lambda row: [-i for i in row['Position'][::-1]] if row['ActiveP'] == -1 else row['Position'], axis=1)    "
   ]
  },
  {
   "cell_type": "code",
   "execution_count": 20,
   "metadata": {},
   "outputs": [],
   "source": [
    "df.to_pickle('data/xg_data.pkl')"
   ]
  },
  {
   "cell_type": "code",
   "execution_count": 21,
   "metadata": {},
   "outputs": [],
   "source": [
    "df = pd.read_pickle('data/xg_data.pkl')"
   ]
  },
  {
   "cell_type": "code",
   "execution_count": 22,
   "metadata": {},
   "outputs": [
    {
     "data": {
      "text/html": [
       "<div>\n",
       "<style scoped>\n",
       "    .dataframe tbody tr th:only-of-type {\n",
       "        vertical-align: middle;\n",
       "    }\n",
       "\n",
       "    .dataframe tbody tr th {\n",
       "        vertical-align: top;\n",
       "    }\n",
       "\n",
       "    .dataframe thead th {\n",
       "        text-align: right;\n",
       "    }\n",
       "</style>\n",
       "<table border=\"1\" class=\"dataframe\">\n",
       "  <thead>\n",
       "    <tr style=\"text-align: right;\">\n",
       "      <th>ActiveP</th>\n",
       "      <th>-1</th>\n",
       "      <th>1</th>\n",
       "    </tr>\n",
       "    <tr>\n",
       "      <th>CubeB</th>\n",
       "      <th></th>\n",
       "      <th></th>\n",
       "    </tr>\n",
       "  </thead>\n",
       "  <tbody>\n",
       "    <tr>\n",
       "      <th>-3</th>\n",
       "      <td>4</td>\n",
       "      <td>0</td>\n",
       "    </tr>\n",
       "    <tr>\n",
       "      <th>-2</th>\n",
       "      <td>64</td>\n",
       "      <td>0</td>\n",
       "    </tr>\n",
       "    <tr>\n",
       "      <th>-1</th>\n",
       "      <td>618</td>\n",
       "      <td>0</td>\n",
       "    </tr>\n",
       "    <tr>\n",
       "      <th>0</th>\n",
       "      <td>3485</td>\n",
       "      <td>3485</td>\n",
       "    </tr>\n",
       "    <tr>\n",
       "      <th>1</th>\n",
       "      <td>0</td>\n",
       "      <td>591</td>\n",
       "    </tr>\n",
       "    <tr>\n",
       "      <th>2</th>\n",
       "      <td>0</td>\n",
       "      <td>50</td>\n",
       "    </tr>\n",
       "    <tr>\n",
       "      <th>3</th>\n",
       "      <td>0</td>\n",
       "      <td>4</td>\n",
       "    </tr>\n",
       "  </tbody>\n",
       "</table>\n",
       "</div>"
      ],
      "text/plain": [
       "ActiveP    -1     1\n",
       "CubeB              \n",
       "-3          4     0\n",
       "-2         64     0\n",
       "-1        618     0\n",
       " 0       3485  3485\n",
       " 1          0   591\n",
       " 2          0    50\n",
       " 3          0     4"
      ]
     },
     "execution_count": 22,
     "metadata": {},
     "output_type": "execute_result"
    }
   ],
   "source": [
    "pd.crosstab(df['CubeB'], df['ActiveP'])"
   ]
  },
  {
   "cell_type": "code",
   "execution_count": 23,
   "metadata": {},
   "outputs": [
    {
     "name": "stdout",
     "output_type": "stream",
     "text": [
      "<class 'pandas.core.frame.DataFrame'>\n",
      "Index: 8301 entries, 5 to 79799\n",
      "Data columns (total 49 columns):\n",
      " #   Column                  Non-Null Count  Dtype  \n",
      "---  ------                  --------------  -----  \n",
      " 0   Name                    8301 non-null   object \n",
      " 1   EntryType               8301 non-null   int64  \n",
      " 2   ActiveP                 8301 non-null   int64  \n",
      " 3   Double                  8301 non-null   int64  \n",
      " 4   Take                    8301 non-null   int64  \n",
      " 5   BeaverR                 8301 non-null   int64  \n",
      " 6   RaccoonR                8301 non-null   int64  \n",
      " 7   CubeB                   8301 non-null   int64  \n",
      " 8   Position                8301 non-null   object \n",
      " 9   Doubled_Pos             8301 non-null   object \n",
      " 10  Doubled_Level           8301 non-null   int64  \n",
      " 11  Doubled_Score           8301 non-null   object \n",
      " 12  Doubled_Cube            8301 non-null   int64  \n",
      " 13  Doubled_CubePos         8301 non-null   int64  \n",
      " 14  Doubled_Jacoby          8301 non-null   int64  \n",
      " 15  Doubled_Crawford        8301 non-null   int64  \n",
      " 16  Doubled_met             8301 non-null   int64  \n",
      " 17  Doubled_FlagDouble      8301 non-null   int64  \n",
      " 18  Doubled_isBeaver        8301 non-null   int64  \n",
      " 19  Doubled_Eval            8301 non-null   object \n",
      " 20  Doubled_equB            8301 non-null   float64\n",
      " 21  Doubled_equDouble       8301 non-null   float64\n",
      " 22  Doubled_equDrop         8301 non-null   float64\n",
      " 23  Doubled_LevelRequest    8301 non-null   int64  \n",
      " 24  Doubled_DoubleChoice3   8301 non-null   int64  \n",
      " 25  Doubled_EvalDouble      8301 non-null   object \n",
      " 26  ErrCube                 8301 non-null   float64\n",
      " 27  DiceRolled              8301 non-null   object \n",
      " 28  ErrTake                 8301 non-null   float64\n",
      " 29  RolloutIndexD           8301 non-null   int64  \n",
      " 30  CompChoiceD             8301 non-null   int64  \n",
      " 31  AnalyzeC                8301 non-null   int64  \n",
      " 32  ErrBeaver               8301 non-null   float64\n",
      " 33  ErrRaccoon              8301 non-null   float64\n",
      " 34  AnalyzeCR               8301 non-null   int64  \n",
      " 35  isValid                 8301 non-null   int64  \n",
      " 36  TutorCube               8301 non-null   int64  \n",
      " 37  TutorTake               8301 non-null   int64  \n",
      " 38  ErrTutorCube            8301 non-null   float64\n",
      " 39  ErrTutorTake            8301 non-null   float64\n",
      " 40  FlaggedDouble           8301 non-null   bool   \n",
      " 41  CommentCube             8301 non-null   int64  \n",
      " 42  EditedCube              8301 non-null   bool   \n",
      " 43  TimeDelayCube           8301 non-null   bool   \n",
      " 44  TimeDelayCubeDone       8301 non-null   bool   \n",
      " 45  NumberOfAutoDoubleCube  8301 non-null   int64  \n",
      " 46  TimeBot                 8301 non-null   int64  \n",
      " 47  TimeTop                 8301 non-null   int64  \n",
      " 48  Version                 8301 non-null   int64  \n",
      "dtypes: bool(4), float64(9), int64(29), object(7)\n",
      "memory usage: 2.9+ MB\n"
     ]
    }
   ],
   "source": [
    "df.info()"
   ]
  },
  {
   "cell_type": "code",
   "execution_count": null,
   "metadata": {},
   "outputs": [],
   "source": []
  }
 ],
 "metadata": {
  "kernelspec": {
   "display_name": "Python 3",
   "language": "python",
   "name": "python3"
  },
  "language_info": {
   "codemirror_mode": {
    "name": "ipython",
    "version": 3
   },
   "file_extension": ".py",
   "mimetype": "text/x-python",
   "name": "python",
   "nbconvert_exporter": "python",
   "pygments_lexer": "ipython3",
   "version": "3.11.6"
  },
  "orig_nbformat": 4
 },
 "nbformat": 4,
 "nbformat_minor": 2
}
